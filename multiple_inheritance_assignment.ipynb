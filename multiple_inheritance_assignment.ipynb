{
 "cells": [
  {
   "cell_type": "code",
   "execution_count": 1,
   "metadata": {},
   "outputs": [
    {
     "name": "stdout",
     "output_type": "stream",
     "text": [
      "Start foo\n",
      "inside foo\n",
      "end foo\n",
      "True\n",
      "True\n",
      "India declated 21 days lockdown\n"
     ]
    }
   ],
   "source": [
    "class demo:\n",
    "    def __init__(self):\n",
    "        print(\"Start demo\")\n",
    "        print(\"inside demo\")\n",
    "        print(\"end demo\")\n",
    "        \n",
    "    def test_func(self):\n",
    "        print(\"COVID-19 is a pandemic\")\n",
    "\n",
    "class foo:\n",
    "    def __init__(self):\n",
    "        print(\"Start foo\")\n",
    "        print(\"inside foo\")\n",
    "        print(\"end foo\")\n",
    "        \n",
    "    def test_func(self):\n",
    "        print(\"India declated 21 days lockdown\")\n",
    "\n",
    "class subclass(foo,demo):\n",
    "    def __init__(self):\n",
    "        super().__init__()\n",
    "        #foo.__init__(self)\n",
    "        #demo.__init__(self)\n",
    "        \n",
    "x = subclass()\n",
    "print(isinstance(x,foo))\n",
    "print(isinstance(x,demo))\n",
    "x.test_func()"
   ]
  }
 ],
 "metadata": {
  "kernelspec": {
   "display_name": "Python 3",
   "language": "python",
   "name": "python3"
  },
  "language_info": {
   "codemirror_mode": {
    "name": "ipython",
    "version": 3
   },
   "file_extension": ".py",
   "mimetype": "text/x-python",
   "name": "python",
   "nbconvert_exporter": "python",
   "pygments_lexer": "ipython3",
   "version": "3.7.4"
  }
 },
 "nbformat": 4,
 "nbformat_minor": 2
}
