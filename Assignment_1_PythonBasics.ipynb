{
 "cells": [
  {
   "cell_type": "markdown",
   "metadata": {},
   "source": [
    "1. Write a program which will find all such numbers which are divisible by 7 but are not a multiple of 5, between 2000 and 3200 (both included). The numbers obtained should be printed in a comma-separated sequence on a single line. "
   ]
  },
  {
   "cell_type": "code",
   "execution_count": 3,
   "metadata": {},
   "outputs": [
    {
     "name": "stdout",
     "output_type": "stream",
     "text": [
      "2030,2065,2100,2135,2170,2205,2240,2275,2310,2345,2380,2415,2450,2485,2520,2555,2590,2625,2660,2695,2730,2765,2800,2835,2870,2905,2940,2975,3010,3045,3080,3115,3150,3185,"
     ]
    }
   ],
   "source": [
    "def mulOfFive(n):\n",
    "    s = str(n)\n",
    "    l = len(s)\n",
    "    if (s[l-1] ==  '0' or s[l-1] == '5'):\n",
    "        return True\n",
    "    else:\n",
    "        return False\n",
    "\n",
    "lst = list(range(2000,3201))\n",
    "final_list = []\n",
    "\n",
    "for i in lst:\n",
    "    j = mulOfFive(i)\n",
    "    if (i%7 == 0) and j:\n",
    "        #print(i)\n",
    "        final_list.append(i)\n",
    "\n",
    "#print(final_list)\n",
    "#print(\",\".join([str(i) for i in final_list]))\n",
    "for i in final_list:\n",
    "    print(i, end=\",\")\n",
    "      \n",
    "    "
   ]
  },
  {
   "cell_type": "code",
   "execution_count": null,
   "metadata": {},
   "outputs": [],
   "source": []
  },
  {
   "cell_type": "markdown",
   "metadata": {},
   "source": [
    "2. Write a Python program to accept the user's first and last name and then getting them printed in the the reverse order with a space between first name and last name."
   ]
  },
  {
   "cell_type": "code",
   "execution_count": 6,
   "metadata": {},
   "outputs": [
    {
     "name": "stdout",
     "output_type": "stream",
     "text": [
      "Enter firstname: Anita\n",
      "Anita\n",
      "Enter lastname: Veeresh\n",
      "Veeresh\n",
      "Printing the firstname and lastname in reverse order:  atinA hsereeV\n"
     ]
    }
   ],
   "source": [
    "firstname = input(\"Enter firstname: \")\n",
    "print(firstname)\n",
    "lastname = input(\"Enter lastname: \")\n",
    "print(lastname)\n",
    "\n",
    "f = firstname[::-1]\n",
    "#print(f)\n",
    "\n",
    "l = lastname[::-1]\n",
    "#print(l)\n",
    "\n",
    "print(\"Printing the firstname and lastname in reverse order: \",f+\" \"+l)"
   ]
  }
 ],
 "metadata": {
  "kernelspec": {
   "display_name": "Python 3",
   "language": "python",
   "name": "python3"
  },
  "language_info": {
   "codemirror_mode": {
    "name": "ipython",
    "version": 3
   },
   "file_extension": ".py",
   "mimetype": "text/x-python",
   "name": "python",
   "nbconvert_exporter": "python",
   "pygments_lexer": "ipython3",
   "version": "3.7.4"
  }
 },
 "nbformat": 4,
 "nbformat_minor": 2
}
