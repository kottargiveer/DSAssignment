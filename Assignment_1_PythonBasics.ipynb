{
 "cells": [
  {
   "cell_type": "markdown",
   "metadata": {},
   "source": [
    "TASK 1:"
   ]
  },
  {
   "cell_type": "markdown",
   "metadata": {},
   "source": [
    "1. Write a program which will find all such numbers which are divisible by 7 but are not a multiple of 5, between 2000 and 3200 (both included). The numbers obtained should be printed in a comma-separated sequence on a single line. "
   ]
  },
  {
   "cell_type": "code",
   "execution_count": 3,
   "metadata": {},
   "outputs": [
    {
     "name": "stdout",
     "output_type": "stream",
     "text": [
      "2030,2065,2100,2135,2170,2205,2240,2275,2310,2345,2380,2415,2450,2485,2520,2555,2590,2625,2660,2695,2730,2765,2800,2835,2870,2905,2940,2975,3010,3045,3080,3115,3150,3185,"
     ]
    }
   ],
   "source": [
    "def mulOfFive(n):\n",
    "    s = str(n)\n",
    "    l = len(s)\n",
    "    if (s[l-1] ==  '0' or s[l-1] == '5'):\n",
    "        return True\n",
    "    else:\n",
    "        return False\n",
    "\n",
    "lst = list(range(2000,3201))\n",
    "final_list = []\n",
    "\n",
    "for i in lst:\n",
    "    j = mulOfFive(i)\n",
    "    if (i%7 == 0) and j:\n",
    "        #print(i)\n",
    "        final_list.append(i)\n",
    "\n",
    "#print(final_list)\n",
    "#print(\",\".join([str(i) for i in final_list]))\n",
    "for i in final_list:\n",
    "    print(i, end=\",\")\n",
    "      \n",
    "    "
   ]
  },
  {
   "cell_type": "code",
   "execution_count": null,
   "metadata": {},
   "outputs": [],
   "source": []
  },
  {
   "cell_type": "markdown",
   "metadata": {},
   "source": [
    "2. Write a Python program to accept the user's first and last name and then getting them printed in the the reverse order with a space between first name and last name."
   ]
  },
  {
   "cell_type": "code",
   "execution_count": 6,
   "metadata": {},
   "outputs": [
    {
     "name": "stdout",
     "output_type": "stream",
     "text": [
      "Enter firstname: Anita\n",
      "Anita\n",
      "Enter lastname: Veeresh\n",
      "Veeresh\n",
      "Printing the firstname and lastname in reverse order:  atinA hsereeV\n"
     ]
    }
   ],
   "source": [
    "firstname = input(\"Enter firstname: \")\n",
    "print(firstname)\n",
    "lastname = input(\"Enter lastname: \")\n",
    "print(lastname)\n",
    "\n",
    "f = firstname[::-1]\n",
    "#print(f)\n",
    "\n",
    "l = lastname[::-1]\n",
    "#print(l)\n",
    "\n",
    "print(\"Printing the firstname and lastname in reverse order: \",f+\" \"+l)"
   ]
  },
  {
   "cell_type": "markdown",
   "metadata": {},
   "source": []
  },
  {
   "cell_type": "markdown",
   "metadata": {},
   "source": [
    "4. Write a Python program to find the volume of a sphere with diameter 12 cm. Formula: V=4/3 * π * r 3 "
   ]
  },
  {
   "cell_type": "code",
   "execution_count": 4,
   "metadata": {},
   "outputs": [
    {
     "name": "stdout",
     "output_type": "stream",
     "text": [
      "Please enter diameter: 12\n",
      "The Volume of the sphere with the diameter 12 is: 904.778684 \n"
     ]
    }
   ],
   "source": [
    "import math\n",
    "\n",
    "pi = math.pi\n",
    "\n",
    "d = float(input(\"Please enter diameter: \"))\n",
    "\n",
    "#calculating the radius, r=d/2\n",
    "\n",
    "r = float(d/2)\n",
    "\n",
    "v = float((4/3)*pi*(r**3))\n",
    "\n",
    "print(\"The Volume of the sphere with the diameter %d is: %f \" %(d,v))"
   ]
  },
  {
   "cell_type": "code",
   "execution_count": null,
   "metadata": {},
   "outputs": [],
   "source": []
  },
  {
   "cell_type": "markdown",
   "metadata": {},
   "source": [
    "Task 2"
   ]
  },
  {
   "cell_type": "markdown",
   "metadata": {},
   "source": [
    "1. Write a program which accepts a sequence of comma-separated numbers from console and generate a list."
   ]
  },
  {
   "cell_type": "code",
   "execution_count": 9,
   "metadata": {},
   "outputs": [
    {
     "name": "stdout",
     "output_type": "stream",
     "text": [
      "Enter the comma seperated numbers: 1,2,3,4,45,67,890\n",
      "[1, 2, 3, 4, 45, 67, 890]\n"
     ]
    }
   ],
   "source": [
    "var = [int(x) for x in input(\"Enter the comma seperated numbers: \").split(\",\")]\n",
    "print(var)"
   ]
  },
  {
   "cell_type": "code",
   "execution_count": null,
   "metadata": {},
   "outputs": [],
   "source": []
  },
  {
   "cell_type": "markdown",
   "metadata": {},
   "source": [
    "2. Create the below pattern using nested for loop in Python. \n",
    " \n",
    " \n",
    "*  \n",
    "* *\n",
    "* * *\n",
    "* * * *\n",
    "* * * * *\n",
    "* * * *\n",
    "* * *\n",
    "* *\n",
    "*\n",
    " "
   ]
  },
  {
   "cell_type": "code",
   "execution_count": 30,
   "metadata": {},
   "outputs": [
    {
     "name": "stdout",
     "output_type": "stream",
     "text": [
      "* \n",
      "* * \n",
      "* * * \n",
      "* * * * \n",
      "* * * * * \n",
      "* * * * * \n",
      "* * * * \n",
      "* * * \n",
      "* * \n",
      "* \n"
     ]
    }
   ],
   "source": [
    "j=5\n",
    "for i in range(1,6):\n",
    "    print('* '*i)\n",
    "    \n",
    "    if i == j:\n",
    "        for x in range(j,0,-1):\n",
    "            print('* '*x)\n",
    "    \n"
   ]
  },
  {
   "cell_type": "code",
   "execution_count": null,
   "metadata": {},
   "outputs": [],
   "source": []
  },
  {
   "cell_type": "markdown",
   "metadata": {},
   "source": [
    "3. Write a Python program to reverse a word after accepting the input from the user. \n",
    " \n",
    "Sample Output: \n",
    " \n",
    "Input word: AcadGild \n",
    " \n",
    "Output: dilGdacA "
   ]
  },
  {
   "cell_type": "code",
   "execution_count": 42,
   "metadata": {},
   "outputs": [
    {
     "name": "stdout",
     "output_type": "stream",
     "text": [
      "Please enter word: AcadGild\n",
      "Input word: AcadGild \n",
      "Output Word: dliGdacA\n"
     ]
    }
   ],
   "source": [
    "srt = input(\"Please enter word: \")\n",
    "print(\"Input word: %s \" %(srt))\n",
    "#print(\"The Volume of the sphere with the diameter %d is: %f \" %(d,v))\n",
    "print(\"Output Word: %s\" %(srt[::-1]))\n"
   ]
  },
  {
   "cell_type": "code",
   "execution_count": null,
   "metadata": {},
   "outputs": [],
   "source": []
  },
  {
   "cell_type": "markdown",
   "metadata": {},
   "source": [
    "4. Write a Python Program to print the given string in the format specified in the \n",
    "​sample output. \n",
    "WE, THE PEOPLE OF INDIA, \n",
    "    having solemnly resolved to constitute India into a\n",
    "        SOVEREIGN, SOCIALIST, SECULAR, DEMOCRATIC REPUBLIC\n",
    "            and to secure to all its citizens "
   ]
  },
  {
   "cell_type": "code",
   "execution_count": 63,
   "metadata": {},
   "outputs": [
    {
     "name": "stdout",
     "output_type": "stream",
     "text": [
      "WE, THE PEOPLE OF INDIA,\n",
      "\thaving solemnly resolved to constitute India into a\n",
      "\t\tSOVEREIGN, SOCIALIST, SECULAR, DEMOCRATIC REPUBLIC\n",
      "\t\t\tand to secure to all its citizens\n"
     ]
    }
   ],
   "source": [
    "l = [\"WE, THE PEOPLE OF INDIA,\",\n",
    "     \"having solemnly resolved to constitute India into a\",\n",
    "     \"SOVEREIGN, SOCIALIST, SECULAR, DEMOCRATIC REPUBLIC\",\n",
    "     \"and to secure to all its citizens\"]\n",
    "#print (rstr.rjust(40, '-')) \n",
    "for i in range(len(l)):\n",
    "     print(i*'\\t'+\"%s\" %(l[i]))"
   ]
  }
 ],
 "metadata": {
  "kernelspec": {
   "display_name": "Python 3",
   "language": "python",
   "name": "python3"
  },
  "language_info": {
   "codemirror_mode": {
    "name": "ipython",
    "version": 3
   },
   "file_extension": ".py",
   "mimetype": "text/x-python",
   "name": "python",
   "nbconvert_exporter": "python",
   "pygments_lexer": "ipython3",
   "version": "3.7.4"
  }
 },
 "nbformat": 4,
 "nbformat_minor": 2
}
